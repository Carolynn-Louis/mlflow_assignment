{
 "cells": [
  {
   "cell_type": "code",
   "execution_count": 1,
   "id": "a179941f-f3d1-49e1-867a-2372af87f44f",
   "metadata": {},
   "outputs": [],
   "source": [
    "import os\n",
    "import warnings\n",
    "import sys\n",
    "\n",
    "import pandas as pd\n",
    "import numpy as np\n",
    "\n",
    "from sklearn.metrics import mean_squared_error, mean_absolute_error, r2_score\n",
    "from sklearn.model_selection import train_test_split\n",
    "from sklearn.linear_model import ElasticNet\n",
    "\n",
    "import mlflow\n",
    "import mlflow.sklearn"
   ]
  },
  {
   "cell_type": "code",
   "execution_count": 2,
   "id": "d7e0c659-edf6-413c-9097-21688837c8db",
   "metadata": {},
   "outputs": [
    {
     "data": {
      "text/html": [
       "<div>\n",
       "<style scoped>\n",
       "    .dataframe tbody tr th:only-of-type {\n",
       "        vertical-align: middle;\n",
       "    }\n",
       "\n",
       "    .dataframe tbody tr th {\n",
       "        vertical-align: top;\n",
       "    }\n",
       "\n",
       "    .dataframe thead th {\n",
       "        text-align: right;\n",
       "    }\n",
       "</style>\n",
       "<table border=\"1\" class=\"dataframe\">\n",
       "  <thead>\n",
       "    <tr style=\"text-align: right;\">\n",
       "      <th></th>\n",
       "      <th>fixed acidity</th>\n",
       "      <th>volatile acidity</th>\n",
       "      <th>citric acid</th>\n",
       "      <th>residual sugar</th>\n",
       "      <th>chlorides</th>\n",
       "      <th>free sulfur dioxide</th>\n",
       "      <th>total sulfur dioxide</th>\n",
       "      <th>density</th>\n",
       "      <th>pH</th>\n",
       "      <th>sulphates</th>\n",
       "      <th>alcohol</th>\n",
       "      <th>quality</th>\n",
       "    </tr>\n",
       "  </thead>\n",
       "  <tbody>\n",
       "    <tr>\n",
       "      <th>4364</th>\n",
       "      <td>6.4</td>\n",
       "      <td>0.290</td>\n",
       "      <td>0.21</td>\n",
       "      <td>9.65</td>\n",
       "      <td>0.041</td>\n",
       "      <td>36.0</td>\n",
       "      <td>119.0</td>\n",
       "      <td>0.99334</td>\n",
       "      <td>2.99</td>\n",
       "      <td>0.34</td>\n",
       "      <td>10.933333</td>\n",
       "      <td>6</td>\n",
       "    </tr>\n",
       "    <tr>\n",
       "      <th>1586</th>\n",
       "      <td>9.3</td>\n",
       "      <td>0.310</td>\n",
       "      <td>0.49</td>\n",
       "      <td>1.30</td>\n",
       "      <td>0.042</td>\n",
       "      <td>34.0</td>\n",
       "      <td>147.0</td>\n",
       "      <td>0.99480</td>\n",
       "      <td>3.11</td>\n",
       "      <td>0.46</td>\n",
       "      <td>9.800000</td>\n",
       "      <td>5</td>\n",
       "    </tr>\n",
       "    <tr>\n",
       "      <th>4792</th>\n",
       "      <td>4.7</td>\n",
       "      <td>0.785</td>\n",
       "      <td>0.00</td>\n",
       "      <td>3.40</td>\n",
       "      <td>0.036</td>\n",
       "      <td>23.0</td>\n",
       "      <td>134.0</td>\n",
       "      <td>0.98981</td>\n",
       "      <td>3.53</td>\n",
       "      <td>0.92</td>\n",
       "      <td>13.800000</td>\n",
       "      <td>6</td>\n",
       "    </tr>\n",
       "    <tr>\n",
       "      <th>3482</th>\n",
       "      <td>5.4</td>\n",
       "      <td>0.450</td>\n",
       "      <td>0.27</td>\n",
       "      <td>6.40</td>\n",
       "      <td>0.033</td>\n",
       "      <td>20.0</td>\n",
       "      <td>102.0</td>\n",
       "      <td>0.98944</td>\n",
       "      <td>3.22</td>\n",
       "      <td>0.27</td>\n",
       "      <td>13.400000</td>\n",
       "      <td>8</td>\n",
       "    </tr>\n",
       "    <tr>\n",
       "      <th>3281</th>\n",
       "      <td>6.5</td>\n",
       "      <td>0.320</td>\n",
       "      <td>0.30</td>\n",
       "      <td>2.30</td>\n",
       "      <td>0.051</td>\n",
       "      <td>20.0</td>\n",
       "      <td>127.0</td>\n",
       "      <td>0.98964</td>\n",
       "      <td>3.13</td>\n",
       "      <td>0.52</td>\n",
       "      <td>12.800000</td>\n",
       "      <td>6</td>\n",
       "    </tr>\n",
       "    <tr>\n",
       "      <th>840</th>\n",
       "      <td>7.6</td>\n",
       "      <td>0.330</td>\n",
       "      <td>0.35</td>\n",
       "      <td>6.30</td>\n",
       "      <td>0.036</td>\n",
       "      <td>12.0</td>\n",
       "      <td>126.0</td>\n",
       "      <td>0.99240</td>\n",
       "      <td>3.16</td>\n",
       "      <td>0.39</td>\n",
       "      <td>12.000000</td>\n",
       "      <td>7</td>\n",
       "    </tr>\n",
       "    <tr>\n",
       "      <th>3005</th>\n",
       "      <td>6.9</td>\n",
       "      <td>0.300</td>\n",
       "      <td>0.36</td>\n",
       "      <td>0.90</td>\n",
       "      <td>0.037</td>\n",
       "      <td>40.0</td>\n",
       "      <td>156.0</td>\n",
       "      <td>0.98968</td>\n",
       "      <td>3.08</td>\n",
       "      <td>0.36</td>\n",
       "      <td>12.100000</td>\n",
       "      <td>6</td>\n",
       "    </tr>\n",
       "    <tr>\n",
       "      <th>328</th>\n",
       "      <td>6.5</td>\n",
       "      <td>0.280</td>\n",
       "      <td>0.35</td>\n",
       "      <td>15.40</td>\n",
       "      <td>0.042</td>\n",
       "      <td>55.0</td>\n",
       "      <td>195.0</td>\n",
       "      <td>0.99780</td>\n",
       "      <td>3.23</td>\n",
       "      <td>0.50</td>\n",
       "      <td>9.600000</td>\n",
       "      <td>6</td>\n",
       "    </tr>\n",
       "    <tr>\n",
       "      <th>4256</th>\n",
       "      <td>6.0</td>\n",
       "      <td>0.330</td>\n",
       "      <td>0.26</td>\n",
       "      <td>5.10</td>\n",
       "      <td>0.051</td>\n",
       "      <td>16.0</td>\n",
       "      <td>119.0</td>\n",
       "      <td>0.99416</td>\n",
       "      <td>3.15</td>\n",
       "      <td>0.41</td>\n",
       "      <td>9.200000</td>\n",
       "      <td>5</td>\n",
       "    </tr>\n",
       "    <tr>\n",
       "      <th>4367</th>\n",
       "      <td>7.1</td>\n",
       "      <td>0.310</td>\n",
       "      <td>0.25</td>\n",
       "      <td>11.20</td>\n",
       "      <td>0.048</td>\n",
       "      <td>32.0</td>\n",
       "      <td>136.0</td>\n",
       "      <td>0.99663</td>\n",
       "      <td>3.14</td>\n",
       "      <td>0.40</td>\n",
       "      <td>9.500000</td>\n",
       "      <td>5</td>\n",
       "    </tr>\n",
       "  </tbody>\n",
       "</table>\n",
       "</div>"
      ],
      "text/plain": [
       "      fixed acidity  volatile acidity  citric acid  residual sugar  chlorides  \\\n",
       "4364            6.4             0.290         0.21            9.65      0.041   \n",
       "1586            9.3             0.310         0.49            1.30      0.042   \n",
       "4792            4.7             0.785         0.00            3.40      0.036   \n",
       "3482            5.4             0.450         0.27            6.40      0.033   \n",
       "3281            6.5             0.320         0.30            2.30      0.051   \n",
       "840             7.6             0.330         0.35            6.30      0.036   \n",
       "3005            6.9             0.300         0.36            0.90      0.037   \n",
       "328             6.5             0.280         0.35           15.40      0.042   \n",
       "4256            6.0             0.330         0.26            5.10      0.051   \n",
       "4367            7.1             0.310         0.25           11.20      0.048   \n",
       "\n",
       "      free sulfur dioxide  total sulfur dioxide  density    pH  sulphates  \\\n",
       "4364                 36.0                 119.0  0.99334  2.99       0.34   \n",
       "1586                 34.0                 147.0  0.99480  3.11       0.46   \n",
       "4792                 23.0                 134.0  0.98981  3.53       0.92   \n",
       "3482                 20.0                 102.0  0.98944  3.22       0.27   \n",
       "3281                 20.0                 127.0  0.98964  3.13       0.52   \n",
       "840                  12.0                 126.0  0.99240  3.16       0.39   \n",
       "3005                 40.0                 156.0  0.98968  3.08       0.36   \n",
       "328                  55.0                 195.0  0.99780  3.23       0.50   \n",
       "4256                 16.0                 119.0  0.99416  3.15       0.41   \n",
       "4367                 32.0                 136.0  0.99663  3.14       0.40   \n",
       "\n",
       "        alcohol  quality  \n",
       "4364  10.933333        6  \n",
       "1586   9.800000        5  \n",
       "4792  13.800000        6  \n",
       "3482  13.400000        8  \n",
       "3281  12.800000        6  \n",
       "840   12.000000        7  \n",
       "3005  12.100000        6  \n",
       "328    9.600000        6  \n",
       "4256   9.200000        5  \n",
       "4367   9.500000        5  "
      ]
     },
     "execution_count": 2,
     "metadata": {},
     "output_type": "execute_result"
    }
   ],
   "source": [
    "data_path = \"wine-quality.csv\"\n",
    "data = pd.read_csv(data_path)\n",
    "\n",
    "data.sample(10)"
   ]
  },
  {
   "cell_type": "code",
   "execution_count": 3,
   "id": "976f4d43-2464-43df-9d50-8d72c37f6015",
   "metadata": {},
   "outputs": [
    {
     "data": {
      "text/plain": [
       "'http://localhost:5006'"
      ]
     },
     "execution_count": 3,
     "metadata": {},
     "output_type": "execute_result"
    }
   ],
   "source": [
    "# mlflow server --backend-store-uri mlruns/ --default-artifact-root mlruns/ --host localhost --port 5006\n",
    "\n",
    "\n",
    "remote_server_uri = \"http://localhost:5006\" # set to your server URI\n",
    "mlflow.set_tracking_uri(remote_server_uri)  # or set the MLFLOW_TRACKING_URI in the env\n",
    "mlflow.tracking.get_tracking_uri()"
   ]
  },
  {
   "cell_type": "code",
   "execution_count": 4,
   "id": "e355f836-47ce-4ecd-8278-22cbeda3d987",
   "metadata": {},
   "outputs": [
    {
     "data": {
      "text/plain": [
       "<Experiment: artifact_location='/home/carolyn/mlflow_assignment/mlruns/274904185405977709', creation_time=1723029212142, experiment_id='274904185405977709', last_update_time=1723029212142, lifecycle_stage='active', name='ElasticNet_wine', tags={}>"
      ]
     },
     "execution_count": 4,
     "metadata": {},
     "output_type": "execute_result"
    }
   ],
   "source": [
    "exp_name = \"ElasticNet_wine\"\n",
    "mlflow.set_experiment(exp_name)"
   ]
  },
  {
   "cell_type": "code",
   "execution_count": 5,
   "id": "f068c3a5-49b9-4ce2-bf73-139188f7474d",
   "metadata": {},
   "outputs": [],
   "source": [
    "def eval_metrics(actual, pred):\n",
    "    # compute relevant metrics\n",
    "    rmse = np.sqrt(mean_squared_error(actual, pred))\n",
    "    mae = mean_absolute_error(actual, pred)\n",
    "    r2 = r2_score(actual, pred)\n",
    "    return rmse, mae, r2\n",
    "\n",
    "\n",
    "def load_data(data_path):\n",
    "    data = pd.read_csv(data_path)\n",
    "\n",
    "    # Split the data into training and test sets. (0.75, 0.25) split.\n",
    "    train, test = train_test_split(data)\n",
    "\n",
    "    # The predicted column is \"quality\" which is a scalar from [3, 9]\n",
    "    train_x = train.drop([\"quality\"], axis=1)\n",
    "    test_x = test.drop([\"quality\"], axis=1)\n",
    "    train_y = train[[\"quality\"]]\n",
    "    test_y = test[[\"quality\"]]\n",
    "    return train_x, train_y, test_x, test_y\n",
    "\n",
    "\n",
    "def train(alpha=0.5, l1_ratio=0.5):\n",
    "    # train a model with given parameters\n",
    "    warnings.filterwarnings(\"ignore\")\n",
    "    np.random.seed(40)\n",
    "\n",
    "    # Read the wine-quality csv file (make sure you're running this from the root of MLflow!)\n",
    "    data_path = \"wine-quality.csv\"\n",
    "    train_x, train_y, test_x, test_y = load_data(data_path)\n",
    "\n",
    "    # Useful for multiple runs (only doing one run in this sample notebook)    \n",
    "    with mlflow.start_run():\n",
    "        # Execute ElasticNet\n",
    "        lr = ElasticNet(alpha=alpha, l1_ratio=l1_ratio, random_state=42)\n",
    "        lr.fit(train_x, train_y)\n",
    "        # Evaluate Metrics\n",
    "        predicted_qualities = lr.predict(test_x)\n",
    "        (rmse, mae, r2) = eval_metrics(test_y, predicted_qualities)\n",
    "\n",
    "        # Print out metrics\n",
    "        print(\"Elasticnet model (alpha=%f, l1_ratio=%f):\" % (alpha, l1_ratio))\n",
    "        print(\"  RMSE: %s\" % rmse)\n",
    "        print(\"  MAE: %s\" % mae)\n",
    "        print(\"  R2: %s\" % r2)\n",
    "\n",
    "        # Log parameter, metrics, and model to MLflow\n",
    "        mlflow.log_param(key=\"alpha\", value=alpha)\n",
    "        mlflow.log_param(key=\"l1_ratio\", value=l1_ratio)\n",
    "        mlflow.log_metric(key=\"rmse\", value=rmse)\n",
    "        mlflow.log_metrics({\"mae\": mae, \"r2\": r2})\n",
    "        mlflow.log_artifact(data_path)\n",
    "        print(\"Save to: {}\".format(mlflow.get_artifact_uri()))\n",
    "        \n",
    "        mlflow.sklearn.log_model(lr, \"model\")\n"
   ]
  },
  {
   "cell_type": "code",
   "execution_count": 6,
   "id": "055dca4d-6046-4d81-9a21-74666d78bf66",
   "metadata": {},
   "outputs": [
    {
     "name": "stdout",
     "output_type": "stream",
     "text": [
      "Elasticnet model (alpha=0.500000, l1_ratio=0.500000):\n",
      "  RMSE: 0.82224284975954\n",
      "  MAE: 0.6278761410160693\n",
      "  R2: 0.12678721972772689\n",
      "Save to: /home/carolyn/mlflow_assignment/mlruns/274904185405977709/96580a2c6e5e455c8299e9db779b96fa/artifacts\n"
     ]
    },
    {
     "name": "stderr",
     "output_type": "stream",
     "text": [
      "2024/08/08 12:06:55 WARNING mlflow.models.model: Input example should be provided to infer model signature if the model signature is not provided when logging the model.\n",
      "2024/08/08 12:06:55 INFO mlflow.tracking._tracking_service.client: 🏃 View run secretive-goose-187 at: http://localhost:5006/#/experiments/274904185405977709/runs/96580a2c6e5e455c8299e9db779b96fa.\n",
      "2024/08/08 12:06:55 INFO mlflow.tracking._tracking_service.client: 🧪 View experiment at: http://localhost:5006/#/experiments/274904185405977709.\n"
     ]
    }
   ],
   "source": [
    "train(0.5, 0.5)"
   ]
  },
  {
   "cell_type": "code",
   "execution_count": 7,
   "id": "9079b554-9fba-41d1-8883-1eabfd506bb4",
   "metadata": {},
   "outputs": [
    {
     "name": "stdout",
     "output_type": "stream",
     "text": [
      "Elasticnet model (alpha=0.200000, l1_ratio=0.200000):\n",
      "  RMSE: 0.7859129997062341\n",
      "  MAE: 0.6155290394093893\n",
      "  R2: 0.20224631822892103\n",
      "Save to: /home/carolyn/mlflow_assignment/mlruns/274904185405977709/a5d81cb4d6da443e83374a4b7027a072/artifacts\n"
     ]
    },
    {
     "name": "stderr",
     "output_type": "stream",
     "text": [
      "2024/08/08 12:06:57 WARNING mlflow.models.model: Input example should be provided to infer model signature if the model signature is not provided when logging the model.\n",
      "2024/08/08 12:06:57 INFO mlflow.tracking._tracking_service.client: 🏃 View run wise-goose-265 at: http://localhost:5006/#/experiments/274904185405977709/runs/a5d81cb4d6da443e83374a4b7027a072.\n",
      "2024/08/08 12:06:57 INFO mlflow.tracking._tracking_service.client: 🧪 View experiment at: http://localhost:5006/#/experiments/274904185405977709.\n"
     ]
    }
   ],
   "source": [
    "train(0.2, 0.2)"
   ]
  },
  {
   "cell_type": "code",
   "execution_count": 8,
   "id": "272db465-3ded-47d7-a58b-b34f71a68c7b",
   "metadata": {},
   "outputs": [
    {
     "name": "stdout",
     "output_type": "stream",
     "text": [
      "Elasticnet model (alpha=0.100000, l1_ratio=0.100000):\n",
      "  RMSE: 0.7792546522251949\n",
      "  MAE: 0.6112547988118587\n",
      "  R2: 0.2157063843066196\n",
      "Save to: /home/carolyn/mlflow_assignment/mlruns/274904185405977709/77f0a4a1eb124e11946a554e54402019/artifacts\n"
     ]
    },
    {
     "name": "stderr",
     "output_type": "stream",
     "text": [
      "2024/08/08 12:07:00 WARNING mlflow.models.model: Input example should be provided to infer model signature if the model signature is not provided when logging the model.\n",
      "2024/08/08 12:07:00 INFO mlflow.tracking._tracking_service.client: 🏃 View run languid-skunk-600 at: http://localhost:5006/#/experiments/274904185405977709/runs/77f0a4a1eb124e11946a554e54402019.\n",
      "2024/08/08 12:07:00 INFO mlflow.tracking._tracking_service.client: 🧪 View experiment at: http://localhost:5006/#/experiments/274904185405977709.\n"
     ]
    }
   ],
   "source": [
    "train(0.1, 0.1)"
   ]
  },
  {
   "cell_type": "code",
   "execution_count": 9,
   "id": "17a6332a-c5d0-45a1-9eab-80dc60f99608",
   "metadata": {},
   "outputs": [
    {
     "name": "stdout",
     "output_type": "stream",
     "text": [
      "2.15.1\n"
     ]
    }
   ],
   "source": [
    "print(mlflow.__version__)"
   ]
  },
  {
   "cell_type": "code",
   "execution_count": 10,
   "id": "74728bb3-2980-451d-b388-676717d51358",
   "metadata": {},
   "outputs": [],
   "source": [
    "# pip install --upgrade mlflow\n"
   ]
  },
  {
   "cell_type": "code",
   "execution_count": 11,
   "id": "bcfcc125-b791-4597-8d86-dcf0e9835bdf",
   "metadata": {},
   "outputs": [
    {
     "name": "stdout",
     "output_type": "stream",
     "text": [
      "ID: 274904185405977709, Name: ElasticNet_wine, Artifact Location: /home/carolyn/mlflow_assignment/mlruns/274904185405977709, Lifecycle Stage: active\n",
      "ID: 0, Name: Default, Artifact Location: /home/carolyn/mlflow_assignment/mlruns/0, Lifecycle Stage: active\n"
     ]
    }
   ],
   "source": [
    "from mlflow.tracking import MlflowClient\n",
    "\n",
    "# Create an instance of MlflowClient\n",
    "client = MlflowClient()\n",
    "\n",
    "# List all experiments\n",
    "experiments = client.search_experiments()\n",
    "\n",
    "# Print experiment details\n",
    "for experiment in experiments:\n",
    "    print(f\"ID: {experiment.experiment_id}, Name: {experiment.name}, Artifact Location: {experiment.artifact_location}, Lifecycle Stage: {experiment.lifecycle_stage}\")\n"
   ]
  },
  {
   "cell_type": "code",
   "execution_count": 12,
   "id": "ec35fcaf-7fe7-40fc-ab53-4d60a253f7e3",
   "metadata": {},
   "outputs": [
    {
     "name": "stdout",
     "output_type": "stream",
     "text": [
      "<Run: data=<RunData: metrics={'mae': 0.6112547988118587,\n",
      " 'r2': 0.2157063843066196,\n",
      " 'rmse': 0.7792546522251949}, params={'alpha': '0.1', 'l1_ratio': '0.1'}, tags={'deployed': '07-08-2024 (19:43:23.476683)',\n",
      " 'mlflow.log-model.history': '[{\"run_id\": \"b668b7821b1f4485a1d8100c1234bab1\", '\n",
      "                             '\"artifact_path\": \"model\", \"utc_time_created\": '\n",
      "                             '\"2024-08-07 14:09:24.036450\", \"flavors\": '\n",
      "                             '{\"python_function\": {\"model_path\": \"model.pkl\", '\n",
      "                             '\"predict_fn\": \"predict\", \"loader_module\": '\n",
      "                             '\"mlflow.sklearn\", \"python_version\": \"3.10.12\", '\n",
      "                             '\"env\": {\"conda\": \"conda.yaml\", \"virtualenv\": '\n",
      "                             '\"python_env.yaml\"}}, \"sklearn\": '\n",
      "                             '{\"pickled_model\": \"model.pkl\", '\n",
      "                             '\"sklearn_version\": \"1.5.1\", '\n",
      "                             '\"serialization_format\": \"cloudpickle\", \"code\": '\n",
      "                             'null}}, \"model_uuid\": '\n",
      "                             '\"0a6d06473ef04f5ab46772d0d8dbb8d8\", '\n",
      "                             '\"mlflow_version\": \"2.15.1\", \"model_size_bytes\": '\n",
      "                             '878}]',\n",
      " 'mlflow.runName': 'silent-skink-415',\n",
      " 'mlflow.source.name': '/home/carolyn/mlflow_assignment/mlflow_tutorial/lib/python3.10/site-packages/ipykernel_launcher.py',\n",
      " 'mlflow.source.type': 'LOCAL',\n",
      " 'mlflow.user': 'carolyn'}>, info=<RunInfo: artifact_uri='/home/carolyn/mlflow_assignment/mlruns/274904185405977709/b668b7821b1f4485a1d8100c1234bab1/artifacts', end_time=1723039765692, experiment_id='274904185405977709', lifecycle_stage='active', run_id='b668b7821b1f4485a1d8100c1234bab1', run_name='silent-skink-415', run_uuid='b668b7821b1f4485a1d8100c1234bab1', start_time=1723039763966, status='FINISHED', user_id='carolyn'>, inputs=<RunInputs: dataset_inputs=[]>>\n"
     ]
    }
   ],
   "source": [
    "# get the run\n",
    "_run = client.get_run(run_id=\"b668b7821b1f4485a1d8100c1234bab1\")\n",
    "print(_run)"
   ]
  },
  {
   "cell_type": "code",
   "execution_count": 13,
   "id": "b0486297-69b8-40e7-a882-4b0d42263b4a",
   "metadata": {},
   "outputs": [],
   "source": [
    "# add a tag to the run\n",
    "from datetime import datetime\n",
    "\n",
    "dt = datetime.now().strftime(\"%d-%m-%Y (%H:%M:%S.%f)\")\n",
    "client.set_tag(_run.info.run_id, \"deployed\", dt)"
   ]
  },
  {
   "cell_type": "code",
   "execution_count": null,
   "id": "966c7a21-bb9c-435e-9092-91f7a2215613",
   "metadata": {},
   "outputs": [],
   "source": []
  }
 ],
 "metadata": {
  "kernelspec": {
   "display_name": "Python 3 (ipykernel)",
   "language": "python",
   "name": "python3"
  },
  "language_info": {
   "codemirror_mode": {
    "name": "ipython",
    "version": 3
   },
   "file_extension": ".py",
   "mimetype": "text/x-python",
   "name": "python",
   "nbconvert_exporter": "python",
   "pygments_lexer": "ipython3",
   "version": "3.10.12"
  }
 },
 "nbformat": 4,
 "nbformat_minor": 5
}
